{
  "nbformat": 4,
  "nbformat_minor": 0,
  "metadata": {
    "colab": {
      "provenance": [],
      "authorship_tag": "ABX9TyMgqHw/MILKQ41wFG3hqh1x",
      "include_colab_link": true
    },
    "kernelspec": {
      "name": "python3",
      "display_name": "Python 3"
    },
    "language_info": {
      "name": "python"
    }
  },
  "cells": [
    {
      "cell_type": "markdown",
      "metadata": {
        "id": "view-in-github",
        "colab_type": "text"
      },
      "source": [
        "<a href=\"https://colab.research.google.com/github/diperezbgit/2025_PROG101_UTEC/blob/main/examen_2/EXAMEN_2_PROGRAMACION_101.ipynb\" target=\"_parent\"><img src=\"https://colab.research.google.com/assets/colab-badge.svg\" alt=\"Open In Colab\"/></a>"
      ]
    },
    {
      "cell_type": "markdown",
      "source": [
        "1. Catálogo de contenido (Listas y tuplas)\n",
        "Tienes una tupla inmutable con las series más vistas:\n",
        "\n",
        "catalogo_popular = (\"Breaking Python\", \"Data Science 101\", \"Machine Love\", \"Debug Wars\")\n",
        "\n",
        "Convierte esta tupla en una lista y realiza lo siguiente:\n",
        "\n",
        "    • Agrega una nueva serie: \"Neural Networks\"\n",
        "\n",
        "    • Reemplaza \"Debug Wars\" por \"AI Rebellion\"\n",
        "\n",
        "    • Ordena la lista alfabéticamente"
      ],
      "metadata": {
        "id": "qA8-wCASuJJN"
      }
    },
    {
      "cell_type": "code",
      "source": [
        "catalogo_popular = (\"Breaking Python\", \"Data Science 101\", \"Machine Love\", \"Debug Wars\")\n",
        "print(f\"Tupla: {catalogo_popular}\")\n",
        "catalogo_popular = list(catalogo_popular)\n",
        "print(f\"Lista creada: {catalogo_popular}\")\n",
        "catalogo_popular.append(\"Neural Networks\")\n",
        "print(f\"Neural Networks añadido: {catalogo_popular}\")\n",
        "catalogo_popular[3] = \"AI Rebellion\"\n",
        "print(f\"Reemplaza 'Debug Wars' por 'AI Rebellion': {catalogo_popular}\")\n",
        "catalogo_popular.sort()\n",
        "print(f\"Ordena alfabéticamente: {catalogo_popular}\")"
      ],
      "metadata": {
        "colab": {
          "base_uri": "https://localhost:8080/"
        },
        "id": "v2wLnl_gvW4O",
        "outputId": "cb5611ec-cdca-455f-f83b-9b4271f95e34"
      },
      "execution_count": 6,
      "outputs": [
        {
          "output_type": "stream",
          "name": "stdout",
          "text": [
            "Tupla: ('Breaking Python', 'Data Science 101', 'Machine Love', 'Debug Wars')\n",
            "Lista creada: ['Breaking Python', 'Data Science 101', 'Machine Love', 'Debug Wars']\n",
            "Neural Networks añadido: ['Breaking Python', 'Data Science 101', 'Machine Love', 'Debug Wars', 'Neural Networks']\n",
            "Reemplaza 'Debug Wars' por 'AI Rebellion': ['Breaking Python', 'Data Science 101', 'Machine Love', 'AI Rebellion', 'Neural Networks']\n",
            "Ordena alfabéticamente: ['AI Rebellion', 'Breaking Python', 'Data Science 101', 'Machine Love', 'Neural Networks']\n"
          ]
        }
      ]
    },
    {
      "cell_type": "markdown",
      "source": [
        "2. Filtrado de géneros (Slicing)\n",
        "Tienes una lista con los géneros disponibles:\n",
        "\n",
        "generos = [\"Drama\", \"Comedia\", \"Acción\", \"Sci-Fi\", \"Documental\", \"Terror\", \"Romance\"]\n",
        "\n",
        "Realiza:\n",
        "\n",
        "    • Un slicing que obtenga los géneros del medio\n",
        "\n",
        "    • Un slicing que obtenga los tres primeros géneros\n",
        "    \n",
        "    •Los géneros ordenados en orden inverso (usando slicing)"
      ],
      "metadata": {
        "id": "BJD7e9rsudpt"
      }
    },
    {
      "cell_type": "code",
      "source": [
        "generos = [\"Drama\", \"Comedia\", \"Acción\", \"Sci-Fi\", \"Documental\", \"Terror\", \"Romance\"]\n",
        "\n",
        "if len(generos)%2!=0:\n",
        "  a = int(len(generos)/2)\n",
        "else:\n",
        "  a = int(len(generos)/2)-1\n",
        "\n",
        "print(f\"Un slicing que obtenga los 3 géneros del medio: {generos[a-1:a+2]}\")\n",
        "print(f\"Un slicing que obtenga los tres primeros géneros: {generos[0:3]}\")\n",
        "print(f\"Los géneros ordenados en orden inverso: {generos[::-1]}\")"
      ],
      "metadata": {
        "colab": {
          "base_uri": "https://localhost:8080/"
        },
        "id": "N6KtMhFsxJIH",
        "outputId": "2062a2b7-fc55-45a7-ce09-7a86e7648326"
      },
      "execution_count": 24,
      "outputs": [
        {
          "output_type": "stream",
          "name": "stdout",
          "text": [
            "Un slicing que obtenga los 3 géneros del medio: ['Acción', 'Sci-Fi', 'Documental']\n",
            "Un slicing que obtenga los tres primeros géneros: ['Drama', 'Comedia', 'Acción']\n",
            "Los géneros ordenados en orden inverso: ['Romance', 'Terror', 'Documental', 'Sci-Fi', 'Acción', 'Comedia', 'Drama']\n"
          ]
        }
      ]
    },
    {
      "cell_type": "markdown",
      "source": [
        "3. Puntajes de usuarios (Listas por comprensión)\n",
        "Tienes una lista de ratings otorgados por un usuario a distintas series:\n",
        "ratings = [4.5, 3.0, 5.0, 2.5, 4.0, 1.5]\n",
        "asuma escala del 0 al 5\n",
        "Con listas por comprensión, crea:\n",
        "\n",
        "    • Una lista con solo los ratings mayores a 3.5\n",
        "\n",
        "    • Una lista con los ratings convertidos a una escala del 1 al 100\n",
        "\n",
        "    • Una lista de strings que diga \"Alta\" si rating > 4, \"Media\" si entre 3 y 4, \"Baja\" si menor\n"
      ],
      "metadata": {
        "id": "dYgKH-Jduqw3"
      }
    },
    {
      "cell_type": "code",
      "source": [
        "ratings = [4.5, 3.0, 5.0, 2.5, 4.0, 1.5]"
      ],
      "metadata": {
        "id": "h7DEAKjtzah3"
      },
      "execution_count": 25,
      "outputs": []
    },
    {
      "cell_type": "code",
      "source": [
        "may_3_5 = [i for i in ratings if i >3.5]\n",
        "rtg_100 = [r * 20 for r in ratings]\n",
        "categ = [\"Alta\" if r > 4 else \"Media\" if r >= 3 else \"Baja\" for r in ratings]\n",
        "\n",
        "print(f\"Ratings > 3.5: {may_3_5}\")\n",
        "print(f\"Escala 1 a 100: {rtg_100}\")\n",
        "print(f\"Clasificación: {categ}\")"
      ],
      "metadata": {
        "colab": {
          "base_uri": "https://localhost:8080/"
        },
        "id": "z__0kmY-zrLg",
        "outputId": "2f4af10c-9cbb-4c1b-aff3-23e72704ae6c"
      },
      "execution_count": 30,
      "outputs": [
        {
          "output_type": "stream",
          "name": "stdout",
          "text": [
            "Ratings > 3.5: [4.5, 5.0, 4.0]\n",
            "Escala 1 a 100: [90.0, 60.0, 100.0, 50.0, 80.0, 30.0]\n",
            "Clasificación: ['Alta', 'Media', 'Alta', 'Baja', 'Media', 'Baja']\n"
          ]
        }
      ]
    },
    {
      "cell_type": "code",
      "source": [],
      "metadata": {
        "id": "YfFOAjWTzrN3"
      },
      "execution_count": null,
      "outputs": []
    },
    {
      "cell_type": "markdown",
      "source": [
        "4. Historial de visualización (Diccionarios)\n",
        "Tienes un diccionario que representa el historial de un usuario:\n",
        "historial = {\n",
        "  \"Breaking Python\": 3,\n",
        "  \"Machine Love\": 5,\n",
        "  \"Data Science 101\": 2\n",
        "}\n",
        "\n",
        "Realiza lo siguiente:\n",
        "\n",
        "    • Aumenta en 1 la cantidad de veces que vio \"Data Science 101\"\n",
        "\n",
        "    • Añade la serie \"AI Rebellion\" con 1 visualización\n",
        "\n",
        "    • Elimina \"Machine Love\" del historial\n",
        "\n",
        "    • Muestra todas las series que el usuario vio más de 2 veces"
      ],
      "metadata": {
        "id": "ehBeBl7CuwNa"
      }
    },
    {
      "cell_type": "code",
      "source": [
        "historial = {\n",
        "    \"Breaking Python\": 3,\n",
        "    \"Machine Love\": 5,\n",
        "    \"Data Science 101\": 2\n",
        "}\n",
        "\n",
        "# Aumentar en 1 la cantidad de veces que vio \"Data Science 101\"\n",
        "historial[\"Data Science 101\"] += 1\n",
        "print(f\"Aumentar 'Data Science 101' en 1:{historial}\")\n",
        "\n",
        "# Añadir la serie \"AI Rebellion\" con 1 visualización\n",
        "historial[\"AI Rebellion\"] = 1\n",
        "print(f\"Agregar 'AI Rebellion' con 1 visualización:{historial}\")\n",
        "\n",
        "# Eliminar \"Machine Love\" del historial\n",
        "del historial[\"Machine Love\"]\n",
        "print(f\"Eliminar 'Machine Love': {historial}\")\n",
        "\n",
        "# Mostrar todas las series vistas más de 2 veces\n",
        "dic_may_2 = [clave for clave, valor in historial.items() if valor > 2]\n",
        "print(f\"Series vistas más de 2 veces: {dic_may_2}\")"
      ],
      "metadata": {
        "colab": {
          "base_uri": "https://localhost:8080/"
        },
        "id": "rOO8t5em25vF",
        "outputId": "31fdcf13-5c65-4206-9a4b-01534314c446"
      },
      "execution_count": 42,
      "outputs": [
        {
          "output_type": "stream",
          "name": "stdout",
          "text": [
            "Aumentar 'Data Science 101' en 1:{'Breaking Python': 3, 'Machine Love': 5, 'Data Science 101': 3}\n",
            "Agregar 'AI Rebellion' con 1 visualización:{'Breaking Python': 3, 'Machine Love': 5, 'Data Science 101': 3, 'AI Rebellion': 1}\n",
            "Eliminar 'Machine Love': {'Breaking Python': 3, 'Data Science 101': 3, 'AI Rebellion': 1}\n",
            "Series vistas más de 2 veces: ['Breaking Python', 'Data Science 101']\n"
          ]
        }
      ]
    },
    {
      "cell_type": "markdown",
      "source": [
        "5. Usuarios únicos por serie (Sets)\n",
        "Tienes la siguiente información:\n",
        "\n",
        "usuarios_serie_A = {\"ana\", \"luis\", \"pedro\", \"maria\"}\n",
        "usuarios_serie_B = {\"maria\", \"pedro\", \"carla\", \"lucas\"}\n",
        "\n",
        "Usando sets:\n",
        "\n",
        "    • Encuentra qué usuarios vieron ambas series\n",
        "\n",
        "    • Qué usuarios vieron solo la serie A\n",
        "\n",
        "    • Qué usuarios únicos vieron al menos una de las dos"
      ],
      "metadata": {
        "id": "bUfqzaKxu17B"
      }
    },
    {
      "cell_type": "code",
      "source": [
        "user_serie_A = {\"ana\", \"luis\", \"pedro\", \"maria\"}\n",
        "user_serie_B = {\"maria\", \"pedro\", \"carla\", \"lucas\"}\n",
        "\n",
        "ambas = user_serie_A.intersection(user_serie_B)\n",
        "print(f\"Usuarios que vieron ambas series: {ambas}\")\n",
        "\n",
        "solo_A = user_serie_A.difference(user_serie_B)\n",
        "print(f\"Usuarios que vieron solo la serie A: {solo_A}\")\n",
        "\n",
        "al_menos_una = user_serie_A.union(user_serie_B)\n",
        "print(f\"Usuarios únicos que vieron al menos una de las dos series: {al_menos_una}\")"
      ],
      "metadata": {
        "colab": {
          "base_uri": "https://localhost:8080/"
        },
        "id": "iiqVNKM63JNF",
        "outputId": "ae4af8b4-f7f0-43db-b2a0-184cba73138c"
      },
      "execution_count": 40,
      "outputs": [
        {
          "output_type": "stream",
          "name": "stdout",
          "text": [
            "Usuarios que vieron ambas series: {'maria', 'pedro'}\n",
            "Usuarios que vieron solo la serie A: {'luis', 'ana'}\n",
            "Usuarios únicos que vieron al menos una de las dos series: {'carla', 'luis', 'pedro', 'lucas', 'ana', 'maria'}\n"
          ]
        }
      ]
    },
    {
      "cell_type": "markdown",
      "source": [
        "6. Recomendaciones compartidas (Diccionario + Sets)\n",
        "Tienes una estructura con recomendaciones por usuario:\n",
        "recomendaciones = {\n",
        "  \"ana\": {\"Machine Love\", \"AI Rebellion\"},\n",
        "  \"luis\": {\"AI Rebellion\", \"Debug Wars\"},\n",
        "  \"pedro\": {\"Debug Wars\", \"Machine Love\"}\n",
        "}\n",
        "\n",
        "Encuentra con código:\n",
        "\n",
        "    • Las series que fueron recomendadas a todos\n",
        "\n",
        "    • Las series recomendadas a al menos dos personas\n",
        "\n",
        "    • Las series recomendadas solo a una persona"
      ],
      "metadata": {
        "id": "Q7HwiPUwvEKZ"
      }
    },
    {
      "cell_type": "code",
      "source": [
        "recom = { \"ana\": {\"Machine Love\", \"AI Rebellion\"}, \"luis\": {\"AI Rebellion\", \"Debug Wars\"}, \"pedro\": {\"Debug Wars\", \"Machine Love\"} }"
      ],
      "metadata": {
        "id": "2V7FMedH4aRG"
      },
      "execution_count": 47,
      "outputs": []
    },
    {
      "cell_type": "code",
      "source": [
        "# recomendadas a todos\n",
        "todos = set.intersection(*recom.values())\n",
        "print(f\"Series recomendadas a todos: {todos}\")\n",
        "\n",
        "# Crear diccionario: serie → usuarios que la recibieron\n",
        "serie_a_user = {}\n",
        "for usuario, series in recom.items():\n",
        "    for serie in series:\n",
        "        serie_a_user.setdefault(serie, set()).add(usuario)\n",
        "\n",
        "# recomendadas a al menos dos personas\n",
        "al_menos_dos = {serie for serie, user in serie_a_user.items() if len(user) >= 2}\n",
        "print(f\"Series recomendadas a al menos dos personas: {al_menos_dos}\")\n",
        "\n",
        "# recomendadas solo a una persona\n",
        "solo_una = {serie for serie, user in serie_a_user.items() if len(user) == 1}\n",
        "print(f\"Series recomendadas solo a una persona: {solo_una}\")"
      ],
      "metadata": {
        "colab": {
          "base_uri": "https://localhost:8080/"
        },
        "id": "nHseXuIA4aWo",
        "outputId": "ee2aca2e-ab12-4eb5-c750-459520cc5023"
      },
      "execution_count": 48,
      "outputs": [
        {
          "output_type": "stream",
          "name": "stdout",
          "text": [
            "Series recomendadas a todos: set()\n",
            "Series recomendadas a al menos dos personas: {'Debug Wars', 'AI Rebellion', 'Machine Love'}\n",
            "Series recomendadas solo a una persona: set()\n"
          ]
        }
      ]
    },
    {
      "cell_type": "markdown",
      "source": [
        "7. Transformar ratings (Tuplas + comprensión de diccionario)\n",
        "Tienes una lista de tuplas con (serie, rating):\n",
        "puntuaciones = [(\"Breaking Python\", 4.0), (\"AI Rebellion\", 5.0), (\"Debug Wars\", 2.0)]\n",
        "\n",
        "Crea un diccionario en el formato:\n",
        "{\n",
        "  \"Breaking Python\": \"Buena\",\n",
        "  \"AI Rebellion\": \"Excelente\",\n",
        "  \"Debug Wars\": \"Regular\"\n",
        "}\n",
        "\n",
        "Regla:\n",
        "\n",
        "    • Rating >= 4.5 → \"Excelente\"\n",
        "\n",
        "    • 3 <= rating < 4.5 → \"Buena\"\n",
        "\n",
        "    • < 3 → \"Regular\"\n"
      ],
      "metadata": {
        "id": "nIJTsiJuvLlx"
      }
    },
    {
      "cell_type": "code",
      "source": [
        "p = [(\"Breaking Python\", 4.0), (\"AI Rebellion\", 5.0), (\"Debug Wars\", 2.0)]\n",
        "\n",
        "c = {s: (\"Excelente\" if r >= 4.5 else \"Buena\" if r >= 3 else \"Regular\") for s, r in p}\n",
        "\n",
        "print(c)\n"
      ],
      "metadata": {
        "colab": {
          "base_uri": "https://localhost:8080/"
        },
        "id": "CmJKLDYP62i3",
        "outputId": "58417924-33d8-45a3-d426-7e3b0b1e0ffe"
      },
      "execution_count": 49,
      "outputs": [
        {
          "output_type": "stream",
          "name": "stdout",
          "text": [
            "{'Breaking Python': 'Buena', 'AI Rebellion': 'Excelente', 'Debug Wars': 'Regular'}\n"
          ]
        }
      ]
    },
    {
      "cell_type": "markdown",
      "source": [
        "8. Usuarios y géneros favoritos (Diccionario + slicing)\n",
        "Cada usuario tiene una lista de sus géneros preferidos (ordenados por preferencia):\n",
        "gustos = {\n",
        "  \"ana\": [\"Sci-Fi\", \"Drama\", \"Documental\"],\n",
        "  \"luis\": [\"Comedia\", \"Acción\", \"Sci-Fi\"],\n",
        "  \"pedro\": [\"Drama\", \"Sci-Fi\", \"Romance\"]\n",
        "}\n",
        "\n",
        "Realiza:\n",
        "\n",
        "    • Una lista con el primer género favorito de cada usuario\n",
        "\n",
        "    • Una lista con todos los géneros mencionados sin repeticiones\n",
        "\n",
        "    • ¿Cuál género aparece más veces en la primera posición?"
      ],
      "metadata": {
        "id": "_Wx6HW1rvMl-"
      }
    },
    {
      "cell_type": "code",
      "source": [
        "g = {\n",
        "    \"ana\": [\"Sci-Fi\", \"Drama\", \"Documental\"],\n",
        "    \"luis\": [\"Comedia\", \"Acción\", \"Sci-Fi\"],\n",
        "    \"pedro\": [\"Drama\", \"Sci-Fi\", \"Romance\"]\n",
        "}\n",
        "\n",
        "p = [x[0] for x in g.values()]\n",
        "print(f\"Primer género favorito de cada usuario: {p}\")\n",
        "\n",
        "t = list({i for sub in g.values() for i in sub})\n",
        "print(f\"Todos los géneros sin repeticiones: {t}\")\n",
        "\n",
        "# Contar que género aparece más en primeros\n",
        "conteo = {}\n",
        "for x in p:\n",
        "    conteo[x] = conteo.get(x, 0) + 1\n",
        "\n",
        "m = max(conteo, key=conteo.get)\n",
        "print(f\"Género que más aparece en la primera posición: {m}\")\n"
      ],
      "metadata": {
        "colab": {
          "base_uri": "https://localhost:8080/"
        },
        "id": "ATbsS9Tl7VDl",
        "outputId": "eb519331-26dd-4f8e-eb7b-44902f398da4"
      },
      "execution_count": 52,
      "outputs": [
        {
          "output_type": "stream",
          "name": "stdout",
          "text": [
            "Primer género favorito de cada usuario: ['Sci-Fi', 'Comedia', 'Drama']\n",
            "Todos los géneros sin repeticiones: ['Drama', 'Documental', 'Comedia', 'Sci-Fi', 'Acción', 'Romance']\n",
            "Género que más aparece en la primera posición: Sci-Fi\n"
          ]
        }
      ]
    },
    {
      "cell_type": "markdown",
      "source": [],
      "metadata": {
        "id": "HF3UDC05vPRH"
      }
    },
    {
      "cell_type": "markdown",
      "source": [
        "9. Resumen de votos por serie (Diccionario + listas)\n",
        "Tienes una lista de votos como pares (serie, puntaje):\n",
        "votos = [(\"Breaking Python\", 5), (\"AI Rebellion\", 4), (\"Breaking Python\", 4), (\"Debug Wars\", 3), (\"AI Rebellion\", 5)]\n",
        "\n",
        "Crea un diccionario donde la clave sea la serie y el valor una lista con todos sus votos. Ejemplo:\n",
        "{\n",
        "  \"Breaking Python\": [5, 4],\n",
        "  ...\n",
        "}\n",
        "\n",
        "Luego, calcula el promedio de rating de cada serie."
      ],
      "metadata": {
        "id": "w7nVDjbgvPTx"
      }
    },
    {
      "cell_type": "code",
      "source": [
        "v = [(\"Breaking Python\", 5), (\"AI Rebellion\", 4), (\"Breaking Python\", 4), (\"Debug Wars\", 3), (\"AI Rebellion\", 5)]\n",
        "r = {}\n",
        "for s, p in v:\n",
        "    r.setdefault(s, []).append(p)\n",
        "\n",
        "print(f\"Votos por serie: {r}\")\n",
        "\n",
        "m = {s: sum(lst)/len(lst) for s, lst in r.items()}\n",
        "print(f\"Promedios: {m}\")\n"
      ],
      "metadata": {
        "colab": {
          "base_uri": "https://localhost:8080/"
        },
        "id": "Ow4P9O3Q70s3",
        "outputId": "af88929f-5c76-419d-8905-6a609a5a08a5"
      },
      "execution_count": 55,
      "outputs": [
        {
          "output_type": "stream",
          "name": "stdout",
          "text": [
            "Votos por serie: {'Breaking Python': [5, 4], 'AI Rebellion': [4, 5], 'Debug Wars': [3]}\n",
            "Promedios: {'Breaking Python': 4.5, 'AI Rebellion': 4.5, 'Debug Wars': 3.0}\n"
          ]
        }
      ]
    },
    {
      "cell_type": "markdown",
      "source": [
        "10. Motor básico de recomendaciones (Integrador)\n",
        "Define una función recomendar_series(usuario, historial, catalogo) que:\n",
        "    • Reciba el nombre de usuario, su historial en forma de diccionario {serie: vistas} y un catálogo con todas las series disponibles.\n",
        "\n",
        "    • Devuelva una lista de series del catálogo que no haya visto aún.\n",
        "\n",
        "Ejemplo:\n",
        "usuario = \"ana\"\n",
        "historial = {\"AI Rebellion\": 3, \"Debug Wars\": 1}\n",
        "catalogo = [\"AI Rebellion\", \"Debug Wars\", \"Machine Love\", \"Data Science 101\"]\n",
        "\n",
        "Resultado:\n",
        "[\"Machine Love\", \"Data Science 101\"]"
      ],
      "metadata": {
        "id": "2Vp-Fu_ivSGT"
      }
    },
    {
      "cell_type": "code",
      "source": [
        "def recomendar(u, h, c):\n",
        "    v = set(h.keys())\n",
        "    return [s for s in c if s not in v]\n",
        "\n",
        "# Ejemplo:\n",
        "u = \"ana\"\n",
        "h = {\"AI Rebellion\": 3, \"Debug Wars\": 1}\n",
        "c = [\"AI Rebellion\", \"Debug Wars\", \"Machine Love\", \"Data Science 101\"]\n",
        "\n",
        "r = recomendar(u, h, c)\n",
        "print(f\"Series recomendadas para {u}: {r}\")\n"
      ],
      "metadata": {
        "colab": {
          "base_uri": "https://localhost:8080/"
        },
        "id": "eEvQeirguiyO",
        "outputId": "27276bdd-8b9f-4673-8a78-f9324f239556"
      },
      "execution_count": 57,
      "outputs": [
        {
          "output_type": "stream",
          "name": "stdout",
          "text": [
            "Series recomendadas para ana: ['Machine Love', 'Data Science 101']\n"
          ]
        }
      ]
    },
    {
      "cell_type": "code",
      "source": [],
      "metadata": {
        "id": "6uilE_nw8OTU"
      },
      "execution_count": null,
      "outputs": []
    },
    {
      "cell_type": "code",
      "source": [],
      "metadata": {
        "id": "C5krfGnUuNgG"
      },
      "execution_count": null,
      "outputs": []
    }
  ]
}