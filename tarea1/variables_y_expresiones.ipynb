{
  "nbformat": 4,
  "nbformat_minor": 0,
  "metadata": {
    "colab": {
      "provenance": [],
      "include_colab_link": true
    },
    "kernelspec": {
      "name": "python3",
      "display_name": "Python 3"
    },
    "language_info": {
      "name": "python"
    }
  },
  "cells": [
    {
      "cell_type": "markdown",
      "metadata": {
        "id": "view-in-github",
        "colab_type": "text"
      },
      "source": [
        "<a href=\"https://colab.research.google.com/github/diperezbgit/2025_PROG101_UTEC/blob/main/tarea1/variables_y_expresiones.ipynb\" target=\"_parent\"><img src=\"https://colab.research.google.com/assets/colab-badge.svg\" alt=\"Open In Colab\"/></a>"
      ]
    },
    {
      "cell_type": "markdown",
      "source": [
        "<img src=\"https://posgrado.utec.edu.pe/sites/default/files/2023-08/Testimonial-home-2.jpg\" alt=\"HTML5 Icon\" width=\"900\" height=\"250\" >\n"
      ],
      "metadata": {
        "id": "cqadFmlrgAXp"
      }
    },
    {
      "cell_type": "markdown",
      "source": [
        "# **Ejercicios - Variables y Expresiones**"
      ],
      "metadata": {
        "id": "tW1-ULBmb0Cm"
      }
    },
    {
      "cell_type": "markdown",
      "source": [
        "**Ejercicio 1: Calculadora de ahorro semanal**\n",
        "\n",
        "Pide al usuario cuánto dinero ahorra cada día de lunes a domingo. Al final, muestra cuánto ahorró en total esa semana y cuánto tendría en un mes si repite el mismo patrón cada semana.\n",
        "\n",
        "- Pista: Usar 7 variables (ahorro_lunes, ahorro_martes, …), input(), float(), +, *."
      ],
      "metadata": {
        "id": "9igzfvIKqNGr"
      }
    },
    {
      "cell_type": "code",
      "source": [
        "## INICIO DE CÓDIGO\n",
        "# definimmos los nombres de dias en una lista\n",
        "dia_ahorro=[\"lunes\",\"martes\",\"miercoles\",\"jueves\",\"viernes\",\"sabado\",\"domingo\"]\n",
        "monto_ahorro=[]\n",
        "i=0\n",
        "#iteramos de 0 a 6 (indica 7 dias a la semana)\n",
        "while i<7:\n",
        "\n",
        "  # se pide ingresar el monto diario\n",
        "  ahorro_ = input(f'{dia_ahorro[i]}\\n\\tIngrese monto de ahorro: ')\n",
        "  # si la entrada es \"exit\" se termina el programa, sino se guarda el valor ingresado en formato float\n",
        "  if ahorro_.lower().strip()==\"exit\":\n",
        "    break\n",
        "  else:\n",
        "    monto_ahorro.append(float(ahorro_))\n",
        "    i+=1\n",
        "\n",
        "# mostramos el monto ahorrado semanal y mensual si continua con ese ritmo de ahorro\n",
        "print(f\"\\nGenial!, tu monto ahorrado esta semana es:{round(sum(monto_ahorro),2)}\")\n",
        "print(f\"Si mantienes este ritmo de ahorro, al mes (4 semanas) tendrás:{round(sum(monto_ahorro)*4,2)}\")\n",
        "\n",
        "## FIN DE CÓDIGO"
      ],
      "metadata": {
        "id": "BX-O1-4wqWF9",
        "colab": {
          "base_uri": "https://localhost:8080/"
        },
        "outputId": "6c8efe63-ab52-4250-b771-9ff636551565"
      },
      "execution_count": 101,
      "outputs": [
        {
          "output_type": "stream",
          "name": "stdout",
          "text": [
            "lunes\n",
            "\tIngrese monto de ahorro: 7.5\n",
            "martes\n",
            "\tIngrese monto de ahorro: 10.5\n",
            "miercoles\n",
            "\tIngrese monto de ahorro: 8\n",
            "jueves\n",
            "\tIngrese monto de ahorro: 10\n",
            "viernes\n",
            "\tIngrese monto de ahorro: 23\n",
            "sabado\n",
            "\tIngrese monto de ahorro: 10\n",
            "domingo\n",
            "\tIngrese monto de ahorro: 20.4\n",
            "\n",
            "Genial!, tu monto ahorrado esta semana es:89.4\n",
            "Si mantienes este ritmo de ahorro, al mes (4 semanas) tendrás:357.6\n"
          ]
        }
      ]
    },
    {
      "cell_type": "markdown",
      "source": [
        "**Ejercicio 2: Conversor de segundos**\n",
        "\n",
        "Solicita una cantidad total de segundos y muestra cuántos minutos y segundos representa.\n",
        "\n",
        "Ejemplo: 130 segundos → 2 minutos y 10 segundos\n",
        "* Pista: Usar // y %\n"
      ],
      "metadata": {
        "id": "oLaw6UggqV3E"
      }
    },
    {
      "cell_type": "code",
      "source": [
        "## INICIO DE CÓDIGO\n",
        "# ingresamos los segundos y trnasformamo la entrada a tipo float\n",
        "seg_ = float(input(f'Ingrese cantidad de segundos: '))\n",
        "\n",
        "# creamos una variable donde almacenamos los segundos de la parte decimal (ejm: 120.32 seg alamacena 0.32 seg)\n",
        "seg_gen=float(float(seg_)-int(seg_))\n",
        "\n",
        "# obtenemos los minutos y segundos\n",
        "min_=int(seg_)//60\n",
        "seg_=float(int(seg_)%60+seg_gen)\n",
        "\n",
        "# imprimimos resultados redondeando los segundos hasta 4 decimales\n",
        "print(f\"result: {min_} minutos y {round(seg_,4)} segundos\")\n",
        "## FIN DE CÓDIGO"
      ],
      "metadata": {
        "id": "bAuxBROrqaWb",
        "colab": {
          "base_uri": "https://localhost:8080/"
        },
        "outputId": "4c628364-865a-4d62-b668-0ae177cb3f0a"
      },
      "execution_count": 46,
      "outputs": [
        {
          "output_type": "stream",
          "name": "stdout",
          "text": [
            "Ingrese cantidad de segundos: 451.2546\n",
            "result: 7 minutos y 31.2546 segundos\n"
          ]
        }
      ]
    },
    {
      "cell_type": "markdown",
      "source": [
        "**Ejercicio 3: Puntuación de juego**\n",
        "\n",
        "Un videojuego otorga:\n",
        "\n",
        "* 10 puntos por cada estrella recolectada,\n",
        "* 50 puntos por cada gema recolectada, y\n",
        "* 1 punto por cada segundo que el jugador se mantuvo vivo.\n",
        "\n",
        "Pide al usuario las tres cantidades y muestra su puntaje total.\n",
        "\n",
        "* Pista: total = estrellas*10 + gemas*50 + tiempo"
      ],
      "metadata": {
        "id": "dK4EIGoKrW2B"
      }
    },
    {
      "cell_type": "code",
      "source": [
        "## INICIO DE CÓDIGO\n",
        "#ingresar cantidades de estrellas, gemas y tiempo (segundos)\n",
        "estrell_ = float(input(f'Ingrese cantidad de estrellas: '))\n",
        "gema_ = float(input(f'Ingrese cantidad de gemas: '))\n",
        "tiempo_ = float(input(f'Ingrese segundos en que se mantuvo con vida: '))\n",
        "\n",
        "#calculo del total\n",
        "total_=estrell_*10+gema_*50+tiempo_\n",
        "\n",
        "#imprimir el total de puntos\n",
        "print(f\"\\nTotal de puntos: {total_}\")\n",
        "## FIN DE CÓDIGO"
      ],
      "metadata": {
        "id": "jkBQHQF1rlUY",
        "colab": {
          "base_uri": "https://localhost:8080/"
        },
        "outputId": "989be146-c655-46ea-c6cf-ba30f3d59111"
      },
      "execution_count": 50,
      "outputs": [
        {
          "output_type": "stream",
          "name": "stdout",
          "text": [
            "Ingrese cantidad de estrellas: 12\n",
            "Ingrese cantidad de gemas: 4\n",
            "Ingrese segundos en que se mantuvo con vida: 200\n",
            "\n",
            "Total de puntos: 520.0\n"
          ]
        }
      ]
    },
    {
      "cell_type": "markdown",
      "source": [
        "**Ejercicio 4: Conversor de monedas con tasa personalizada**\n",
        "\n",
        "Solicita al usuario:\n",
        "\n",
        "* El monto en soles\n",
        "* La tasa de cambio a dólares\n",
        "\n",
        "Muestra el equivalente en dólares, redondeado a 2 decimales.\n",
        "\n",
        "* Pista: Usar float(), *, round(valor, 2)"
      ],
      "metadata": {
        "id": "wW9Edl_8rlt1"
      }
    },
    {
      "cell_type": "code",
      "source": [
        "## INICIO DE CÓDIGO\n",
        "\n",
        "# ingresar cantidad total de soles y tipo de cambio\n",
        "soles_=float(input('Ingrese monto en soles: '))\n",
        "tc_usd=float(input('Ingrese tipo de cambio (dolares): '))\n",
        "\n",
        "# imprimir el equivalente en dolares\n",
        "print(f'Valor total en dolares: {round(soles_/tc_usd,2)}')\n",
        "## FIN DE CÓDIGO"
      ],
      "metadata": {
        "id": "fTCsCohHrmQW",
        "colab": {
          "base_uri": "https://localhost:8080/"
        },
        "outputId": "d1f0a654-1f73-472b-8e8b-aef015ec0c27"
      },
      "execution_count": 135,
      "outputs": [
        {
          "output_type": "stream",
          "name": "stdout",
          "text": [
            "Ingrese monto en soles: 371.452\n",
            "Ingrese tipo de cambio (dolares): 3.71\n",
            "Valor total en dolares: 100.12\n"
          ]
        }
      ]
    },
    {
      "cell_type": "markdown",
      "source": [
        "**Ejercicio 5: Costo compartido de viaje**\n",
        "\n",
        "Tres amigos hacen un viaje y pagan distintos montos:\n",
        "\n",
        "* Ana pagó gasolina,\n",
        "* Luis pagó peajes,\n",
        "* Carla pagó comida.\n",
        "\n",
        "Pide los tres montos, calcula el total y cuánto debería aportar cada uno para que paguen igual.\n",
        "\n",
        "* Pista: Calcular el total y luego dividirlo entre 3"
      ],
      "metadata": {
        "id": "JYUyJAidrmnT"
      }
    },
    {
      "cell_type": "code",
      "source": [
        "## INICIO DE CÓDIGO\n",
        "#se ingresa los montos gastados por los tres amigos\n",
        "ana_=float(input('Ingrese monto gastado en gasolina (Ana): '))\n",
        "luis_=float(input('Ingrese monto gastado en peajes (Luis): '))\n",
        "carla_=float(input('Ingrese monto gastado en comida (Carla): '))\n",
        "\n",
        "#creamos un diccionario para llamar a la clave y valor y comparar los montos con el monto promedio\n",
        "dic_pago={'Ana':ana_,'Luis':luis_,'Carla':carla_}\n",
        "\n",
        "#calculamos el total e imprimimos la salida\n",
        "total_=ana_+luis_+carla_\n",
        "print(f\"\\nTotal gastado: {round(total_,2)}\")\n",
        "\n",
        "#calculamos el promedio\n",
        "monto_eq=float(total_/3)\n",
        "# llamamos a cada aportante e imprimimos el monto que aporta o se le devuelve de acuerdo a lo gastado respecto al promedio\n",
        "clave_ = list(dic_pago.keys())\n",
        "for i in clave_:\n",
        "  monto_person = dic_pago[i]\n",
        "  if monto_person <= monto_eq:\n",
        "    print(f\"\\t*{i} aporta {abs(round(monto_person-monto_eq,2))} soles\")\n",
        "  else:\n",
        "    print(f\"\\t*A {i} se le devuelve {abs(round(monto_person-monto_eq,2))} soles\")\n",
        "\n",
        "## FIN DE CÓDIGO"
      ],
      "metadata": {
        "id": "SGjH-m_mrom9",
        "colab": {
          "base_uri": "https://localhost:8080/"
        },
        "outputId": "26456665-c46a-4784-9b73-57d997e7b607"
      },
      "execution_count": 87,
      "outputs": [
        {
          "output_type": "stream",
          "name": "stdout",
          "text": [
            "Ingrese monto gastado en gasolina (Ana): 12\n",
            "Ingrese monto gastado en peajes (Luis): 42\n",
            "Ingrese monto gastado en comida (Carla): 60.25\n",
            "\n",
            "Total gastado: 114.25\n",
            "\t*Ana aporta 26.08 soles\n",
            "\t*A Luis se le devuelve 3.92 soles\n",
            "\t*A Carla se le devuelve 22.17 soles\n"
          ]
        }
      ]
    },
    {
      "cell_type": "markdown",
      "source": [
        "**Ejercicio 6: Tiempo total de estudio**\n",
        "\n",
        "Solicita al usuario cuántas horas estudió en 4 materias distintas.\n",
        "\n",
        "Muestra el total de horas de estudio en la semana y el promedio diario (considerando 7 días).\n"
      ],
      "metadata": {
        "id": "skhBiCaCro5l"
      }
    },
    {
      "cell_type": "code",
      "source": [
        "## INICIO DE CÓDIGO\n",
        "# ingresar total de horas de estudio a la semana por curao\n",
        "calc_=float(input('Ingrese horas de estudio en matemáticas (semanal): '))\n",
        "orat_=float(input('Ingrese horas de estudio en oratoria (semanal): '))\n",
        "prog_=float(input('Ingrese horas de estudio en programación (semanal): '))\n",
        "econ_=float(input('Ingrese horas de estudio en economía (semanal): '))\n",
        "\n",
        "# # imprimir total y proomedio de horas de estudio a la semana\n",
        "total_horas = calc_+orat_+prog_+econ_\n",
        "print(f'\\nTotal de horas de estudio a la semana: {round(total_horas,2)}')\n",
        "print(f'Horas diarias de estudio: {round(total_horas/7,2)}')\n",
        "\n",
        "## FIN DE CÓDIGO"
      ],
      "metadata": {
        "id": "HnFuV1RPrqXQ",
        "colab": {
          "base_uri": "https://localhost:8080/"
        },
        "outputId": "7f9e69bb-4e34-4401-b2b7-d1f092eb935d"
      },
      "execution_count": 92,
      "outputs": [
        {
          "output_type": "stream",
          "name": "stdout",
          "text": [
            "Ingrese horas de estudio en matemáticas (semanal): 12\n",
            "Ingrese horas de estudio en oratoria (semanal): 14.5\n",
            "Ingrese horas de estudio en programación (semanal): 20\n",
            "Ingrese horas de estudio en economía (semanal): 10\n",
            "\n",
            "Total de horas de estudio a la semana: 56.5\n",
            "Horas diarias de estudio: 8.07\n"
          ]
        }
      ]
    },
    {
      "cell_type": "markdown",
      "source": [
        "**Ejercicio 7: Nombre codificado (nivel string)**\n",
        "\n",
        "Pide al usuario su nombre completo y muestra:\n",
        "\n",
        "* La cantidad de caracteres (con len())\n",
        "* Su nombre todo en mayúsculas (.upper())\n",
        "* Su nombre todo en minúsculas (.lower())\n"
      ],
      "metadata": {
        "id": "rNjtOXKWrqs5"
      }
    },
    {
      "cell_type": "code",
      "source": [
        "## INICIO DE CÓDIGO\n",
        "nom_comp=str(input('Ingrese nombre completo: '))\n",
        "\n",
        "# La cantidad de caracteres (con len())\n",
        "print(f'\\nCantidad de caracteres: {len(nom_comp)}')\n",
        "\n",
        "# nombre en mayusculas y minusculas\n",
        "print(f'Nombre en mayúsculas: {nom_comp.upper()}')\n",
        "print(f'Nombre en minúsculas: {nom_comp.lower()}')\n",
        "\n",
        "## FIN DE CÓDIGO"
      ],
      "metadata": {
        "id": "GnGm74GXrsL0",
        "colab": {
          "base_uri": "https://localhost:8080/"
        },
        "outputId": "b60a5b3a-cc9c-4e42-b265-4e6a6903e2f6"
      },
      "execution_count": 94,
      "outputs": [
        {
          "output_type": "stream",
          "name": "stdout",
          "text": [
            "Ingrese nombre completo: diego Perez BORROmeo\n",
            "\n",
            "Cantidad de caracteres: 20\n",
            "Nombre en mayúsculas: DIEGO PEREZ BORROMEO\n",
            "Nombre en minúsculas: diego perez borromeo\n"
          ]
        }
      ]
    },
    {
      "cell_type": "markdown",
      "source": [
        "**Ejercicio 8: Frase repetida**\n",
        "\n",
        "Pide una frase y un número n, y muestra la frase repetida n veces, cada una en una línea.\n",
        "\n",
        "* Pista: print(frase * n)  # y/o con '\\n'"
      ],
      "metadata": {
        "id": "lrhPyjmWrse2"
      }
    },
    {
      "cell_type": "code",
      "source": [
        "## INICIO DE CÓDIGO\n",
        "#ingresar frase y cantidad de veces a repetir\n",
        "frase_=str(input('Ingrese frase: '))\n",
        "cant_=int(input('Ingrese cantidad de veces a repetir: '))\n",
        "\n",
        "# iterar para imprimir n veces la frase\n",
        "for i in range(cant_):\n",
        "  print(f'n°{i+1}: {frase_}')\n",
        "\n",
        "## FIN DE CÓDIGO"
      ],
      "metadata": {
        "id": "Vzef3t_Lru0p",
        "colab": {
          "base_uri": "https://localhost:8080/"
        },
        "outputId": "7e349761-4c1c-494c-e8f5-048684bfec9c"
      },
      "execution_count": 100,
      "outputs": [
        {
          "output_type": "stream",
          "name": "stdout",
          "text": [
            "Ingrese frase:  hola master ds&ia\n",
            "Ingrese cantidad de veces a repetir: 5\n",
            "n°1:  hola master ds&ia\n",
            "n°2:  hola master ds&ia\n",
            "n°3:  hola master ds&ia\n",
            "n°4:  hola master ds&ia\n",
            "n°5:  hola master ds&ia\n"
          ]
        }
      ]
    },
    {
      "cell_type": "markdown",
      "source": [
        "**Ejercicio 9: División de cuentas**\n",
        "\n",
        "Un grupo de amigos pide una cuenta por S/ 250.\n",
        "Pide al usuario cuántas personas están en el grupo y muestra cuánto debe pagar cada uno.\n",
        "\n",
        "Asegúrate de redondear el resultado a 2 decimales.\n",
        "\n",
        "* Pista: Usa la funcion round()"
      ],
      "metadata": {
        "id": "5NpbbGR_rvNH"
      }
    },
    {
      "cell_type": "code",
      "source": [
        "## INICIO DE CÓDIGO\n",
        "# Ingresar cuenta y cantidad de personas\n",
        "total_=float(input('Total de la cuenta: '))\n",
        "cant_per=float(input('Cuantos son?: '))\n",
        "\n",
        "# esta condicional asegura que el valor ingresado sea un numero entero, puede numeros con decimales nulos \"5.0\" pero nunca \"5.1\"\n",
        "if cant_per-int(cant_per)==0:\n",
        "  print(f'Cada uno debe pagar:{round(total_/cant_per,2)}')\n",
        "else:\n",
        "  print('Ingresar cantidad valida de personas')\n",
        "\n",
        "## FIN DE CÓDIGO"
      ],
      "metadata": {
        "id": "uMxuVCUVrvj6",
        "colab": {
          "base_uri": "https://localhost:8080/"
        },
        "outputId": "98c50a38-eeee-44b6-95b8-d959479574de"
      },
      "execution_count": 134,
      "outputs": [
        {
          "output_type": "stream",
          "name": "stdout",
          "text": [
            "Total de la cuenta: 250\n",
            "Cuantos son?: 5.\n",
            "Cada uno debe pagar:50.0\n"
          ]
        }
      ]
    },
    {
      "cell_type": "markdown",
      "source": [
        "**Ejercicio 10: Calendario de clases**\n",
        "\n",
        "Pide cuántas horas se estudia en promedio por día, y cuántos días tiene el mes.\n",
        "\n",
        "Calcula cuántas horas de estudio habrá ese mes."
      ],
      "metadata": {
        "id": "p3PYp0l4pxuI"
      }
    },
    {
      "cell_type": "code",
      "source": [
        "## INICIO DE CÓDIGO\n",
        "horas_dia = float(input('Ingrese horas promedio de estudio al día: '))\n",
        "dias_mes = float(input('Ingrese cantidad de días del mes: '))\n",
        "\n",
        "# esta condicional asegura que el valor ingresado sea un numero entero, puede numeros con decimales nulos \"30.0\" pero nunca \"30.1\"\n",
        "if dias_mes-int(dias_mes)==0:\n",
        "  print(f'\\nTotal de horas de estudio al mes:{round(horas_dia*dias_mes,2)}')\n",
        "else:\n",
        "  print('\\nIngresar cantidad valida de dias del mes (los dias son enteros)')\n",
        "\n",
        "## FIN DE CÓDIGO"
      ],
      "metadata": {
        "id": "y1bXFffhrxk2",
        "colab": {
          "base_uri": "https://localhost:8080/"
        },
        "outputId": "b9b070df-4a05-4133-d8f2-28f790ff0776"
      },
      "execution_count": 139,
      "outputs": [
        {
          "output_type": "stream",
          "name": "stdout",
          "text": [
            "Ingrese horas promedio de estudio al día: 8.5\n",
            "Ingrese cantidad de días del mes: 31\n",
            "\n",
            "Total de horas de estudio al mes:263.5\n"
          ]
        }
      ]
    },
    {
      "cell_type": "markdown",
      "source": [
        "---\n",
        "\n",
        "# Gracias por completar este laboratorio!\n",
        "\n",
        "---\n"
      ],
      "metadata": {
        "id": "8_ZocYoOrx3Z"
      }
    }
  ]
}