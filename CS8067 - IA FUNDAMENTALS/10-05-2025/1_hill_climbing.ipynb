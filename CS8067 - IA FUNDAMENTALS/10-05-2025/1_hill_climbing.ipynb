{
  "nbformat": 4,
  "nbformat_minor": 0,
  "metadata": {
    "colab": {
      "provenance": [],
      "include_colab_link": true
    },
    "kernelspec": {
      "name": "python3",
      "display_name": "Python 3"
    },
    "language_info": {
      "name": "python"
    }
  },
  "cells": [
    {
      "cell_type": "markdown",
      "metadata": {
        "id": "view-in-github",
        "colab_type": "text"
      },
      "source": [
        "<a href=\"https://colab.research.google.com/github/diperezbgit/2025_PROG101_UTEC/blob/main/CS8067%20-%20IA%20FUNDAMENTALS/10-05-2025/1_hill_climbing.ipynb\" target=\"_parent\"><img src=\"https://colab.research.google.com/assets/colab-badge.svg\" alt=\"Open In Colab\"/></a>"
      ]
    },
    {
      "cell_type": "markdown",
      "source": [
        "#Hill climbing search"
      ],
      "metadata": {
        "id": "l53KCHGbTxwM"
      }
    },
    {
      "cell_type": "markdown",
      "source": [
        "![](https://drive.google.com/uc?export=view&id=1IlgFVvt98JrqeC7A1eracheX7oUHBx0E)"
      ],
      "metadata": {
        "id": "FcVmwFu6TvxI"
      }
    },
    {
      "cell_type": "code",
      "execution_count": 31,
      "metadata": {
        "id": "awp6eqnKGZ7L",
        "colab": {
          "base_uri": "https://localhost:8080/"
        },
        "outputId": "080fa96f-21cb-442c-f96d-9c3c29aaa50a"
      },
      "outputs": [
        {
          "output_type": "stream",
          "name": "stdout",
          "text": [
            "[3 0 2 1]\n"
          ]
        }
      ],
      "source": [
        "import numpy as np\n",
        "\n",
        "TSP = [\n",
        "    [0,   200,     600,       100 ],\n",
        "    [200,  0,      300,       100 ],\n",
        "    [600,  300,    0,         400 ],\n",
        "    [100,  100,    400,       0]\n",
        "]\n",
        "\n",
        "\n",
        "# step 1  # solution aleatoria\n",
        "current_solution = np.array([0, 1, 2, 3])\n",
        "np.random.shuffle(current_solution)\n",
        "\n",
        "print(current_solution)"
      ]
    },
    {
      "cell_type": "code",
      "source": [
        "def fitness(sol): # depende del problema\n",
        "  distance = 0\n",
        "  for i in range(len(sol)-1):\n",
        "    distance += TSP[sol[i]][sol[i+1]]\n",
        "  return distance\n",
        "\n",
        "print(fitness(current_solution))\n",
        "\n",
        "def get_neighbors(sol):\n",
        "  neighbors = []\n",
        "  for i in range(len(sol) - 1):\n",
        "    for j in range(i + 1, len(sol)):\n",
        "      new_sol = sol.copy()\n",
        "      new_sol[i], new_sol[j] = new_sol[j], new_sol[i]\n",
        "      neighbors.append(new_sol)\n",
        "\n",
        "  return neighbors\n",
        "\n",
        "print(get_neighbors(current_solution))"
      ],
      "metadata": {
        "colab": {
          "base_uri": "https://localhost:8080/"
        },
        "id": "QXIeG2g8EHep",
        "outputId": "3a418c11-1588-4cad-ba9d-4f3d6add11e2"
      },
      "execution_count": 32,
      "outputs": [
        {
          "output_type": "stream",
          "name": "stdout",
          "text": [
            "1000\n",
            "[array([0, 3, 2, 1]), array([2, 0, 3, 1]), array([1, 0, 2, 3]), array([3, 2, 0, 1]), array([3, 1, 2, 0]), array([3, 0, 1, 2])]\n"
          ]
        }
      ]
    },
    {
      "cell_type": "code",
      "source": [
        "def hill_climbing(sol):\n",
        "  while True:\n",
        "    neighbors = get_neighbors(sol)\n",
        "    best_neighbor = min(neighbors, key=fitness)\n",
        "\n",
        "\n",
        "    if fitness(best_neighbor) < fitness(sol):\n",
        "      sol = best_neighbor\n",
        "    else:\n",
        "      return sol\n",
        "\n",
        "print(hill_climbing(current_solution),fitness(hill_climbing(current_solution)))"
      ],
      "metadata": {
        "colab": {
          "base_uri": "https://localhost:8080/"
        },
        "id": "dy0j19BbGCZc",
        "outputId": "37b25207-fd91-451a-98ef-643805ccc7c0"
      },
      "execution_count": 33,
      "outputs": [
        {
          "output_type": "stream",
          "name": "stdout",
          "text": [
            "[0 3 1 2] 500\n"
          ]
        }
      ]
    },
    {
      "cell_type": "code",
      "source": [
        "#unifiuemos todo\n",
        "def hill_climbing_tot():\n",
        "  # step 1  # solution aleatoria\n",
        "  sol = np.array([0, 1, 2, 3])\n",
        "  np.random.shuffle(sol)\n",
        "  while True:\n",
        "    neighbors = get_neighbors(sol)\n",
        "    best_neighbor = min(neighbors, key=fitness)\n",
        "    print(f\"current solution: {sol},{fitness(sol)}\")\n",
        "    print(f\"current neighbors: {neighbors}\")\n",
        "    print(f\"current best_neighbor: {best_neighbor}\")\n",
        "    print(f\"current fitness(best_neighbor): {fitness(best_neighbor)}\")\n",
        "\n",
        "    if fitness(best_neighbor) < fitness(sol):\n",
        "      sol = best_neighbor\n",
        "    else:\n",
        "      fit_sol = fitness(sol)\n",
        "      return sol,fit_sol\n",
        "\n",
        "print(f\"\\nbest solution {hill_climbing_tot()}\")"
      ],
      "metadata": {
        "id": "ACuMmaRbrioN",
        "outputId": "48acdf9a-bf80-48ed-cfc6-0c6253ec953e",
        "colab": {
          "base_uri": "https://localhost:8080/"
        }
      },
      "execution_count": 40,
      "outputs": [
        {
          "output_type": "stream",
          "name": "stdout",
          "text": [
            "current solution: [3 2 1 0],900\n",
            "current neighbors: [array([2, 3, 1, 0]), array([1, 2, 3, 0]), array([0, 2, 1, 3]), array([3, 1, 2, 0]), array([3, 0, 1, 2]), array([3, 2, 0, 1])]\n",
            "current best_neighbor: [3 0 1 2]\n",
            "current fitness(best_neighbor): 600\n",
            "current solution: [3 0 1 2],600\n",
            "current neighbors: [array([0, 3, 1, 2]), array([1, 0, 3, 2]), array([2, 0, 1, 3]), array([3, 1, 0, 2]), array([3, 2, 1, 0]), array([3, 0, 2, 1])]\n",
            "current best_neighbor: [0 3 1 2]\n",
            "current fitness(best_neighbor): 500\n",
            "current solution: [0 3 1 2],500\n",
            "current neighbors: [array([3, 0, 1, 2]), array([1, 3, 0, 2]), array([2, 3, 1, 0]), array([0, 1, 3, 2]), array([0, 2, 1, 3]), array([0, 3, 2, 1])]\n",
            "current best_neighbor: [3 0 1 2]\n",
            "current fitness(best_neighbor): 600\n",
            "\n",
            "best solution (array([0, 3, 1, 2]), 500)\n"
          ]
        }
      ]
    },
    {
      "cell_type": "code",
      "source": [],
      "metadata": {
        "id": "lLH7rkjum9Ox",
        "outputId": "1ef8db6c-2491-4dd8-da4a-5fd7f270101f",
        "colab": {
          "base_uri": "https://localhost:8080/"
        }
      },
      "execution_count": 26,
      "outputs": [
        {
          "output_type": "execute_result",
          "data": {
            "text/plain": [
              "500"
            ]
          },
          "metadata": {},
          "execution_count": 26
        }
      ]
    }
  ]
}