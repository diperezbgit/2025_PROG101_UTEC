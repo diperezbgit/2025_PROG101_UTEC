{
  "nbformat": 4,
  "nbformat_minor": 0,
  "metadata": {
    "colab": {
      "provenance": [],
      "include_colab_link": true
    },
    "kernelspec": {
      "name": "python3",
      "display_name": "Python 3"
    },
    "language_info": {
      "name": "python"
    }
  },
  "cells": [
    {
      "cell_type": "markdown",
      "metadata": {
        "id": "view-in-github",
        "colab_type": "text"
      },
      "source": [
        "<a href=\"https://colab.research.google.com/github/diperezbgit/2025_PROG101_UTEC/blob/main/CS8067%20-%20IA%20FUNDAMENTALS/10-05-2025/1_hill_climbing_teacher.ipynb\" target=\"_parent\"><img src=\"https://colab.research.google.com/assets/colab-badge.svg\" alt=\"Open In Colab\"/></a>"
      ]
    },
    {
      "cell_type": "markdown",
      "source": [
        "#Hill climbing search"
      ],
      "metadata": {
        "id": "l53KCHGbTxwM"
      }
    },
    {
      "cell_type": "markdown",
      "source": [
        "![](https://drive.google.com/uc?export=view&id=1IlgFVvt98JrqeC7A1eracheX7oUHBx0E)"
      ],
      "metadata": {
        "id": "FcVmwFu6TvxI"
      }
    },
    {
      "cell_type": "code",
      "execution_count": null,
      "metadata": {
        "id": "awp6eqnKGZ7L",
        "colab": {
          "base_uri": "https://localhost:8080/"
        },
        "outputId": "92d2fadd-9cf3-4c33-f58a-aeea99666343"
      },
      "outputs": [
        {
          "output_type": "stream",
          "name": "stdout",
          "text": [
            "[3 0 2 1]\n"
          ]
        }
      ],
      "source": [
        "import numpy as np\n",
        "\n",
        "TSP = [\n",
        "    [0,   200,  600,  100],\n",
        "    [200,   0,  300,  100],\n",
        "    [600, 300,  0,    400],\n",
        "    [100, 100,  400,  0],\n",
        "]\n",
        "\n",
        "# Step 1\n",
        "current_solution = np.array([0, 1, 2, 3])\n",
        "np.random.shuffle(current_solution)\n",
        "\n",
        "print(current_solution)"
      ]
    },
    {
      "cell_type": "code",
      "source": [
        "def fitness(sol):\n",
        "  distance = 0\n",
        "  for i in range( len(sol) - 1 ):\n",
        "    distance = distance + TSP[ sol[i]  ][ sol[i+1]  ]\n",
        "\n",
        "  return distance\n",
        "\n",
        "print( fitness(current_solution) )"
      ],
      "metadata": {
        "colab": {
          "base_uri": "https://localhost:8080/"
        },
        "id": "BfVFdznJV5BU",
        "outputId": "caf03812-2218-4a1f-f653-e1cac503604c"
      },
      "execution_count": null,
      "outputs": [
        {
          "output_type": "stream",
          "name": "stdout",
          "text": [
            "1000\n"
          ]
        }
      ]
    },
    {
      "cell_type": "code",
      "source": [
        "def get_neighbors(sol):\n",
        "  neighbors = []\n",
        "  for i in range(len(sol) - 1):\n",
        "    for j in range( i + 1, len(sol) ):\n",
        "      new_sol = sol.copy()\n",
        "      new_sol[i], new_sol[j] = new_sol[j], new_sol[i]\n",
        "      neighbors.append(new_sol)\n",
        "  return neighbors\n",
        "\n",
        "print( (current_solution) )\n",
        "print( get_neighbors(current_solution) )"
      ],
      "metadata": {
        "colab": {
          "base_uri": "https://localhost:8080/"
        },
        "id": "LlcSgnBLXb1s",
        "outputId": "8b6a320e-18e5-41b1-e8d8-b61109cd6f64"
      },
      "execution_count": null,
      "outputs": [
        {
          "output_type": "stream",
          "name": "stdout",
          "text": [
            "[3 0 2 1]\n",
            "[array([0, 3, 2, 1]), array([2, 0, 3, 1]), array([1, 0, 2, 3]), array([3, 2, 0, 1]), array([3, 1, 2, 0]), array([3, 0, 1, 2])]\n"
          ]
        }
      ]
    },
    {
      "cell_type": "code",
      "source": [
        "def hill_climbing():\n",
        "  # step 1: Solucion inicial\n",
        "  current_solution = np.array([0, 1, 2, 3])\n",
        "  np.random.shuffle(current_solution)\n",
        "\n",
        "  while True:\n",
        "    print(\"Iteration...\")\n",
        "    # step: generar vecinos\n",
        "    neighbors = get_neighbors(current_solution)\n",
        "    best_neighbor = min(neighbors, key=fitness)\n",
        "\n",
        "    print(\"current_solution\", current_solution)\n",
        "    print(\"fitness current_solution\", fitness(current_solution))\n",
        "    print(\"neighbors\", neighbors)\n",
        "    print(\"best_neighbor\", best_neighbor)\n",
        "    print(\"fitness best_neighbor\", fitness(best_neighbor))\n",
        "\n",
        "    if fitness(best_neighbor) < fitness(current_solution):\n",
        "      current_solution = best_neighbor\n",
        "    else:\n",
        "      return current_solution\n",
        "\n",
        "    print(\"\")\n",
        "\n",
        "solution = hill_climbing()\n",
        "\n",
        "print(\"\\n 'good' solution:\", solution)\n",
        "\n",
        "\n"
      ],
      "metadata": {
        "colab": {
          "base_uri": "https://localhost:8080/"
        },
        "id": "gLnNSB3XDgWT",
        "outputId": "6b336681-2ed6-4fbc-f9ea-20fedf516e23"
      },
      "execution_count": null,
      "outputs": [
        {
          "output_type": "stream",
          "name": "stdout",
          "text": [
            "Iteration...\n",
            "current_solution [1 3 0 2]\n",
            "fitness current_solution 800\n",
            "neighbors [array([3, 1, 0, 2]), array([0, 3, 1, 2]), array([2, 3, 0, 1]), array([1, 0, 3, 2]), array([1, 2, 0, 3]), array([1, 3, 2, 0])]\n",
            "best_neighbor [0 3 1 2]\n",
            "fitness best_neighbor 500\n",
            "\n",
            "Iteration...\n",
            "current_solution [0 3 1 2]\n",
            "fitness current_solution 500\n",
            "neighbors [array([3, 0, 1, 2]), array([1, 3, 0, 2]), array([2, 3, 1, 0]), array([0, 1, 3, 2]), array([0, 2, 1, 3]), array([0, 3, 2, 1])]\n",
            "best_neighbor [3 0 1 2]\n",
            "fitness best_neighbor 600\n",
            "\n",
            " 'good' solution: [0 3 1 2]\n"
          ]
        }
      ]
    },
    {
      "cell_type": "code",
      "source": [],
      "metadata": {
        "colab": {
          "base_uri": "https://localhost:8080/"
        },
        "id": "ZcN3MkdnsO4c",
        "outputId": "dfdb6de5-9a72-4ba5-e75e-d3af6a83a79d"
      },
      "execution_count": null,
      "outputs": [
        {
          "output_type": "execute_result",
          "data": {
            "text/plain": [
              "2"
            ]
          },
          "metadata": {},
          "execution_count": 16
        }
      ]
    },
    {
      "cell_type": "markdown",
      "source": [
        "# HC con plot"
      ],
      "metadata": {
        "id": "XdGM7b8swcrD"
      }
    },
    {
      "cell_type": "code",
      "source": [
        "import numpy as np\n",
        "import matplotlib.pyplot as plt\n",
        "from scipy.spatial.distance import pdist, squareform\n",
        "\n",
        "def plot_tsp(nodes, route):\n",
        "    \"\"\"\n",
        "    Plot the TSP nodes and route.\n",
        "\n",
        "    Parameters:\n",
        "    - nodes: List of tuples containing the coordinates of each node.\n",
        "    - route: List of node indices representing the TSP route.\n",
        "    \"\"\"\n",
        "    x = [node[0] for node in nodes]\n",
        "    y = [node[1] for node in nodes]\n",
        "\n",
        "    plt.figure(figsize=(8, 6))\n",
        "    plt.scatter(x, y, color='blue', zorder=2)  # Plot nodes\n",
        "\n",
        "\n",
        "    for i in range(len(route) - 1):\n",
        "        node1 = route[i]\n",
        "        node2 = route[i + 1]\n",
        "        plt.plot([nodes[node1][0], nodes[node2][0]], [nodes[node1][1], nodes[node2][1]], color='red', zorder=1)  # Plot route\n",
        "\n",
        "    # Connect the last node to the first node to form a loop\n",
        "    node1 = route[-1]\n",
        "    node2 = route[0]\n",
        "    plt.plot([nodes[node1][0], nodes[node2][0]], [nodes[node1][1], nodes[node2][1]], color='red', zorder=1)  # Plot route\n",
        "\n",
        "    plt.xlabel('X')\n",
        "    plt.ylabel('Y')\n",
        "    plt.title('TSP Nodes and Route')\n",
        "    plt.grid(True)\n",
        "    plt.show()\n",
        "\n",
        "# Example usage:\n",
        "nodes = [(0, 0), (1, 3), (4, 2), (3, 6), (7, 3), (9, 5)]  # Coordinates of nodes\n",
        "route = [0, 1, 2, 3, 4, 5]  # Example TSP route (indices of nodes)\n",
        "\n",
        "plot_tsp(nodes, route)"
      ],
      "metadata": {
        "colab": {
          "base_uri": "https://localhost:8080/",
          "height": 564
        },
        "id": "SPlgRGvewiIP",
        "outputId": "9b3e6558-7a54-4405-9acb-946773a44e4c"
      },
      "execution_count": null,
      "outputs": [
        {
          "output_type": "display_data",
          "data": {
            "text/plain": [
              "<Figure size 800x600 with 1 Axes>"
            ],
            "image/png": "[encoded data removed]"
          },
          "metadata": {}
        }
      ]
    },
    {
      "cell_type": "code",
      "source": [
        "N = 10 # cantidad de ciudades\n",
        "positions = np.random.rand(N, 2) # generar las ciudades\n",
        "distances = squareform(pdist(positions, 'euclidean')) # distancias entre ciudades"
      ],
      "metadata": {
        "colab": {
          "base_uri": "https://localhost:8080/"
        },
        "id": "obVYLShDxm9c",
        "outputId": "9cb802eb-a763-4a11-b061-0ebff3764334"
      },
      "execution_count": null,
      "outputs": [
        {
          "output_type": "stream",
          "name": "stdout",
          "text": [
            "[[0.         0.37543795 0.63319361 0.20315121 0.17229386 0.14620817\n",
            "  0.41621936 0.91555008 0.75262662 0.11843886]\n",
            " [0.37543795 0.         0.43767327 0.31948502 0.20319926 0.32154844\n",
            "  0.5586175  0.87351292 0.4953125  0.32973809]\n",
            " [0.63319361 0.43767327 0.         0.70041497 0.51684591 0.67429933\n",
            "  0.46386537 0.47585325 0.14889986 0.66640079]\n",
            " [0.20315121 0.31948502 0.70041497 0.         0.18784886 0.05699016\n",
            "  0.59814786 1.05758555 0.79128727 0.08471795]\n",
            " [0.17229386 0.20319926 0.51684591 0.18784886 0.         0.15751477\n",
            "  0.4463995  0.8735902  0.61752761 0.15211447]\n",
            " [0.14620817 0.32154844 0.67429933 0.05699016 0.15751477 0.\n",
            "  0.54483916 1.01431386 0.77338518 0.02789032]\n",
            " [0.41621936 0.5586175  0.46386537 0.59814786 0.4463995  0.54483916\n",
            "  0.         0.5351298  0.61276005 0.52069394]\n",
            " [0.91555008 0.87351292 0.47585325 1.05758555 0.8735902  1.01431386\n",
            "  0.5351298  0.         0.54512856 0.99630838]\n",
            " [0.75262662 0.4953125  0.14889986 0.79128727 0.61752761 0.77338518\n",
            "  0.61276005 0.54512856 0.         0.76962943]\n",
            " [0.11843886 0.32973809 0.66640079 0.08471795 0.15211447 0.02789032\n",
            "  0.52069394 0.99630838 0.76962943 0.        ]]\n"
          ]
        }
      ]
    },
    {
      "cell_type": "code",
      "source": [
        "def fitness(sol):\n",
        "  distance = 0\n",
        "  for i in range( len(sol) - 1 ):\n",
        "    distance = distance + distances[ sol[i]  ][ sol[i+1]  ]\n",
        "\n",
        "  return distance\n",
        "\n",
        "print( fitness(current_solution) )\n",
        "\n",
        "def get_neighbors(sol):\n",
        "  neighbors = []\n",
        "  for i in range(len(sol) - 1):\n",
        "    for j in range( i + 1, len(sol) ):\n",
        "      new_sol = sol.copy()\n",
        "      new_sol[i], new_sol[j] = new_sol[j], new_sol[i]\n",
        "      neighbors.append(new_sol)\n",
        "  return neighbors"
      ],
      "metadata": {
        "colab": {
          "base_uri": "https://localhost:8080/"
        },
        "id": "OAJf4IHmyOEZ",
        "outputId": "bedfcc8d-f9f7-406a-f69e-6babbfbceef4"
      },
      "execution_count": null,
      "outputs": [
        {
          "output_type": "stream",
          "name": "stdout",
          "text": [
            "1.2740180971811155\n"
          ]
        }
      ]
    },
    {
      "cell_type": "code",
      "source": [
        "range(N) -> (0, 1, 2, 3, .. N)"
      ],
      "metadata": {
        "id": "npj3-oC-yqjj"
      },
      "execution_count": null,
      "outputs": []
    },
    {
      "cell_type": "code",
      "source": [
        "def hill_climbing():\n",
        "  # step 1: Solucion inicial\n",
        "  current_solution = np.array([0, 1, 2, 3])\n",
        "  np.random.shuffle(current_solution)\n",
        "\n",
        "  while True:\n",
        "    print(\"Iteration...\")\n",
        "    # step: generar vecinos\n",
        "    neighbors = get_neighbors(current_solution)\n",
        "    best_neighbor = min(neighbors, key=fitness)\n",
        "\n",
        "    print(\"current_solution\", current_solution)\n",
        "    print(\"fitness current_solution\", fitness(current_solution))\n",
        "    print(\"neighbors\", neighbors)\n",
        "    print(\"best_neighbor\", best_neighbor)\n",
        "    print(\"fitness best_neighbor\", fitness(best_neighbor))\n",
        "\n",
        "    if fitness(best_neighbor) < fitness(current_solution):\n",
        "      current_solution = best_neighbor\n",
        "    else:\n",
        "      return current_solution\n",
        "\n",
        "    print(\"\")\n",
        "\n",
        "solution = hill_climbing()\n",
        "\n",
        "print(\"\\n 'good' solution:\", solution)\n",
        "\n",
        "\n"
      ],
      "metadata": {
        "id": "IW4FOg5QySSz"
      },
      "execution_count": null,
      "outputs": []
    }
  ]
}