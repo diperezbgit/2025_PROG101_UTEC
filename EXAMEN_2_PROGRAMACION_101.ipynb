{
  "nbformat": 4,
  "nbformat_minor": 0,
  "metadata": {
    "colab": {
      "provenance": [],
      "authorship_tag": "ABX9TyPzT3/zlijhkbxdNqQkRgOD",
      "include_colab_link": true
    },
    "kernelspec": {
      "name": "python3",
      "display_name": "Python 3"
    },
    "language_info": {
      "name": "python"
    }
  },
  "cells": [
    {
      "cell_type": "markdown",
      "metadata": {
        "id": "view-in-github",
        "colab_type": "text"
      },
      "source": [
        "<a href=\"https://colab.research.google.com/github/diperezbgit/2025_PROG101_UTEC/blob/main/EXAMEN_2_PROGRAMACION_101.ipynb\" target=\"_parent\"><img src=\"https://colab.research.google.com/assets/colab-badge.svg\" alt=\"Open In Colab\"/></a>"
      ]
    },
    {
      "cell_type": "markdown",
      "source": [
        "1. Catálogo de contenido (Listas y tuplas)\n",
        "Tienes una tupla inmutable con las series más vistas:\n",
        "\n",
        "catalogo_popular = (\"Breaking Python\", \"Data Science 101\", \"Machine Love\", \"Debug Wars\")\n",
        "\n",
        "Convierte esta tupla en una lista y realiza lo siguiente:\n",
        "\n",
        "    • Agrega una nueva serie: \"Neural Networks\"\n",
        "\n",
        "    • Reemplaza \"Debug Wars\" por \"AI Rebellion\"\n",
        "\n",
        "    • Ordena la lista alfabéticamente"
      ],
      "metadata": {
        "id": "qA8-wCASuJJN"
      }
    },
    {
      "cell_type": "code",
      "source": [
        "catalogo_popular = (\"Breaking Python\", \"Data Science 101\", \"Machine Love\", \"Debug Wars\")"
      ],
      "metadata": {
        "id": "v2wLnl_gvW4O"
      },
      "execution_count": 1,
      "outputs": []
    },
    {
      "cell_type": "code",
      "source": [],
      "metadata": {
        "id": "sTeoqsTQvXA1"
      },
      "execution_count": null,
      "outputs": []
    },
    {
      "cell_type": "markdown",
      "source": [
        "2. Filtrado de géneros (Slicing)\n",
        "Tienes una lista con los géneros disponibles:\n",
        "\n",
        "generos = [\"Drama\", \"Comedia\", \"Acción\", \"Sci-Fi\", \"Documental\", \"Terror\", \"Romance\"]\n",
        "\n",
        "Realiza:\n",
        "\n",
        "    • Un slicing que obtenga los géneros del medio\n",
        "\n",
        "    • Un slicing que obtenga los tres primeros géneros\n",
        "    \n",
        "    •Los géneros ordenados en orden inverso (usando slicing)"
      ],
      "metadata": {
        "id": "BJD7e9rsudpt"
      }
    },
    {
      "cell_type": "markdown",
      "source": [
        "3. Puntajes de usuarios (Listas por comprensión)\n",
        "Tienes una lista de ratings otorgados por un usuario a distintas series:\n",
        "ratings = [4.5, 3.0, 5.0, 2.5, 4.0, 1.5]\n",
        "\n",
        "Con listas por comprensión, crea:\n",
        "\n",
        "    • Una lista con solo los ratings mayores a 3.5\n",
        "\n",
        "    • Una lista con los ratings convertidos a una escala del 1 al 100\n",
        "\n",
        "    • Una lista de strings que diga \"Alta\" si rating > 4, \"Media\" si entre 3 y 4, \"Baja\" si menor\n"
      ],
      "metadata": {
        "id": "dYgKH-Jduqw3"
      }
    },
    {
      "cell_type": "markdown",
      "source": [
        "4. Historial de visualización (Diccionarios)\n",
        "Tienes un diccionario que representa el historial de un usuario:\n",
        "historial = {\n",
        "  \"Breaking Python\": 3,\n",
        "  \"Machine Love\": 5,\n",
        "  \"Data Science 101\": 2\n",
        "}\n",
        "\n",
        "Realiza lo siguiente:\n",
        "\n",
        "    • Aumenta en 1 la cantidad de veces que vio \"Data Science 101\"\n",
        "\n",
        "    • Añade la serie \"AI Rebellion\" con 1 visualización\n",
        "\n",
        "    • Elimina \"Machine Love\" del historial\n",
        "\n",
        "    • Muestra todas las series que el usuario vio más de 2 veces"
      ],
      "metadata": {
        "id": "ehBeBl7CuwNa"
      }
    },
    {
      "cell_type": "markdown",
      "source": [
        "5. Usuarios únicos por serie (Sets)\n",
        "Tienes la siguiente información:\n",
        "\n",
        "usuarios_serie_A = {\"ana\", \"luis\", \"pedro\", \"maria\"}\n",
        "usuarios_serie_B = {\"maria\", \"pedro\", \"carla\", \"lucas\"}\n",
        "\n",
        "Usando sets:\n",
        "\n",
        "    • Encuentra qué usuarios vieron ambas series\n",
        "\n",
        "    • Qué usuarios vieron solo la serie A\n",
        "\n",
        "    • Qué usuarios únicos vieron al menos una de las dos"
      ],
      "metadata": {
        "id": "bUfqzaKxu17B"
      }
    },
    {
      "cell_type": "markdown",
      "source": [
        "6. Recomendaciones compartidas (Diccionario + Sets)\n",
        "Tienes una estructura con recomendaciones por usuario:\n",
        "recomendaciones = {\n",
        "  \"ana\": {\"Machine Love\", \"AI Rebellion\"},\n",
        "  \"luis\": {\"AI Rebellion\", \"Debug Wars\"},\n",
        "  \"pedro\": {\"Debug Wars\", \"Machine Love\"}\n",
        "}\n",
        "\n",
        "Encuentra con código:\n",
        "    • Las series que fueron recomendadas a todos\n",
        "\n",
        "    • Las series recomendadas a al menos dos personas\n",
        "\n",
        "    • Las series recomendadas solo a una persona"
      ],
      "metadata": {
        "id": "Q7HwiPUwvEKZ"
      }
    },
    {
      "cell_type": "markdown",
      "source": [
        "7. Transformar ratings (Tuplas + comprensión de diccionario)\n",
        "Tienes una lista de tuplas con (serie, rating):\n",
        "puntuaciones = [(\"Breaking Python\", 4.0), (\"AI Rebellion\", 5.0), (\"Debug Wars\", 2.0)]\n",
        "\n",
        "Crea un diccionario en el formato:\n",
        "{\n",
        "  \"Breaking Python\": \"Buena\",\n",
        "  \"AI Rebellion\": \"Excelente\",\n",
        "  \"Debug Wars\": \"Regular\"\n",
        "}\n",
        "\n",
        "Regla:\n",
        "    • Rating >= 4.5 → \"Excelente\"\n",
        "\n",
        "    • 3 <= rating < 4.5 → \"Buena\"\n",
        "\n",
        "    • < 3 → \"Regular\"\n"
      ],
      "metadata": {
        "id": "nIJTsiJuvLlx"
      }
    },
    {
      "cell_type": "markdown",
      "source": [
        "8. Usuarios y géneros favoritos (Diccionario + slicing)\n",
        "Cada usuario tiene una lista de sus géneros preferidos (ordenados por preferencia):\n",
        "gustos = {\n",
        "  \"ana\": [\"Sci-Fi\", \"Drama\", \"Documental\"],\n",
        "  \"luis\": [\"Comedia\", \"Acción\", \"Sci-Fi\"],\n",
        "  \"pedro\": [\"Drama\", \"Sci-Fi\", \"Romance\"]\n",
        "}\n",
        "\n",
        "Realiza:\n",
        "    • Una lista con el primer género favorito de cada usuario\n",
        "\n",
        "    • Una lista con todos los géneros mencionados sin repeticiones\n",
        "\n",
        "    • ¿Cuál género aparece más veces en la primera posición?"
      ],
      "metadata": {
        "id": "_Wx6HW1rvMl-"
      }
    },
    {
      "cell_type": "markdown",
      "source": [],
      "metadata": {
        "id": "HF3UDC05vPRH"
      }
    },
    {
      "cell_type": "markdown",
      "source": [
        "9. Resumen de votos por serie (Diccionario + listas)\n",
        "Tienes una lista de votos como pares (serie, puntaje):\n",
        "votos = [(\"Breaking Python\", 5), (\"AI Rebellion\", 4), (\"Breaking Python\", 4), (\"Debug Wars\", 3), (\"AI Rebellion\", 5)]\n",
        "\n",
        "Crea un diccionario donde la clave sea la serie y el valor una lista con todos sus votos. Ejemplo:\n",
        "{\n",
        "  \"Breaking Python\": [5, 4],\n",
        "  ...\n",
        "}\n",
        "\n",
        "Luego, calcula el promedio de rating de cada serie."
      ],
      "metadata": {
        "id": "w7nVDjbgvPTx"
      }
    },
    {
      "cell_type": "markdown",
      "source": [
        "10. Motor básico de recomendaciones (Integrador)\n",
        "Define una función recomendar_series(usuario, historial, catalogo) que:\n",
        "    • Reciba el nombre de usuario, su historial en forma de diccionario {serie: vistas} y un catálogo con todas las series disponibles.\n",
        "\n",
        "    • Devuelva una lista de series del catálogo que no haya visto aún.\n",
        "\n",
        "Ejemplo:\n",
        "usuario = \"ana\"\n",
        "historial = {\"AI Rebellion\": 3, \"Debug Wars\": 1}\n",
        "catalogo = [\"AI Rebellion\", \"Debug Wars\", \"Machine Love\", \"Data Science 101\"]\n",
        "\n",
        "Resultado:\n",
        "[\"Machine Love\", \"Data Science 101\"]"
      ],
      "metadata": {
        "id": "2Vp-Fu_ivSGT"
      }
    },
    {
      "cell_type": "code",
      "source": [],
      "metadata": {
        "id": "eEvQeirguiyO"
      },
      "execution_count": null,
      "outputs": []
    },
    {
      "cell_type": "markdown",
      "source": [],
      "metadata": {
        "id": "FclygZ9XujUe"
      }
    },
    {
      "cell_type": "markdown",
      "source": [],
      "metadata": {
        "id": "5rGwZ5Nqujcm"
      }
    },
    {
      "cell_type": "code",
      "source": [],
      "metadata": {
        "id": "C5krfGnUuNgG"
      },
      "execution_count": null,
      "outputs": []
    }
  ]
}