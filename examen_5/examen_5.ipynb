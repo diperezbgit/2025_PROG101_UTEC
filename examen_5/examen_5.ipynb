{
  "nbformat": 4,
  "nbformat_minor": 0,
  "metadata": {
    "colab": {
      "provenance": [],
      "authorship_tag": "ABX9TyNJfQglw/2UjbFKFn1cG5f4",
      "include_colab_link": true
    },
    "kernelspec": {
      "name": "python3",
      "display_name": "Python 3"
    },
    "language_info": {
      "name": "python"
    }
  },
  "cells": [
    {
      "cell_type": "markdown",
      "metadata": {
        "id": "view-in-github",
        "colab_type": "text"
      },
      "source": [
        "<a href=\"https://colab.research.google.com/github/diperezbgit/2025_PROG101_UTEC/blob/main/examen_5/examen_5.ipynb\" target=\"_parent\"><img src=\"https://colab.research.google.com/assets/colab-badge.svg\" alt=\"Open In Colab\"/></a>"
      ]
    },
    {
      "cell_type": "markdown",
      "source": [
        "# **Examen 4 - Pandas**\n",
        " Dataset principal:  diabetes.csv  \n",
        " Nombre y Apellido:  Diego Remigio Perez Borromeo"
      ],
      "metadata": {
        "id": "8u7srN2YhU8b"
      }
    },
    {
      "cell_type": "markdown",
      "source": [],
      "metadata": {
        "id": "NeHLUDXuh8Gr"
      }
    },
    {
      "cell_type": "code",
      "source": [
        "\n",
        "import matplotlib.pyplot as plt\n",
        "import requests\n",
        "\n",
        "\n",
        "url = 'https://raw.githubusercontent.com/diperezbgit/IA-FUNDAMENTALS/main/TAREA_2/cnx_gis.png'\n",
        "\n",
        "response = requests.get(url)\n",
        "img = Image.open(BytesIO(response.content))\n",
        "\n",
        "plt.imshow(img)\n",
        "plt.axis('off')  # Quita los ejes\n",
        "plt.show()"
      ],
      "metadata": {
        "id": "0wipbQBqh8Vq"
      },
      "execution_count": null,
      "outputs": []
    },
    {
      "cell_type": "markdown",
      "source": [
        "### **Pregunta 1:**\n",
        "1. Carga diabetes.csv en un DataFrame df_diabetes.\n",
        "2. Muestra las 5 primeras filas.\n",
        "3. Imprime el número total de filas, columnas y el tipo de cada columna.\n",
        "4. Convierte la columna Outcome a tipo categórico y verifica el cambio imprimiendo la información del DataFrame (df_diabetes.info())."
      ],
      "metadata": {
        "id": "0QdpNkr9hbNK"
      }
    },
    {
      "cell_type": "code",
      "source": [],
      "metadata": {
        "id": "aN6s2lDxiZP0"
      },
      "execution_count": null,
      "outputs": []
    },
    {
      "cell_type": "code",
      "source": [],
      "metadata": {
        "id": "v5sOgViNiZUz"
      },
      "execution_count": null,
      "outputs": []
    },
    {
      "cell_type": "markdown",
      "source": [],
      "metadata": {
        "id": "nwgIufb3iA7r"
      }
    },
    {
      "cell_type": "markdown",
      "source": [
        "### **Pregunta 2:**\n",
        "1. Crea un DataFrame df_filtrado con todas las filas de df_diabetes donde Glucose > 120.\n",
        "2. Agrega a df_filtrado una columna BMI_Category que clasifique el BMI así:\n",
        "* \"Bajo\" si BMI < 18.5\n",
        "* \"Normal\" si 18.5 ≤ BMI < 25\n",
        "* \"Sobrepeso\" si 25 ≤ BMI < 30\n",
        "* \"Obeso\" si BMI ≥ 30\n",
        "3. Muestra las primeras 5 filas de df_filtrado con la nueva columna incluida."
      ],
      "metadata": {
        "id": "bD-P5HMwhtOL"
      }
    },
    {
      "cell_type": "code",
      "source": [],
      "metadata": {
        "id": "GnVV7gVsiVsj"
      },
      "execution_count": null,
      "outputs": []
    },
    {
      "cell_type": "code",
      "source": [],
      "metadata": {
        "id": "8UQFNq-ViWJb"
      },
      "execution_count": null,
      "outputs": []
    },
    {
      "cell_type": "markdown",
      "source": [],
      "metadata": {
        "id": "EpWnybIziERq"
      }
    },
    {
      "cell_type": "markdown",
      "source": [
        "### **Pregunta 3:**\n",
        "1. Carga age_groups.csv en un DataFrame df_age_groups.\n",
        "2. Haz un merge de df_diabetes con df_age_groups por la columna Age. El resultado se llamará df_combinado. Debe ser un left merge para mantener todas las filas de df_diabetes.\n",
        "3. Muestra las 5 primeras filas de df_combinado para verificar que la columna AgeGroup se haya agregado correctamente."
      ],
      "metadata": {
        "id": "nY6JgqpthwFb"
      }
    },
    {
      "cell_type": "code",
      "source": [],
      "metadata": {
        "id": "JQYVNEz_isCs"
      },
      "execution_count": null,
      "outputs": []
    },
    {
      "cell_type": "code",
      "source": [],
      "metadata": {
        "id": "wtOd1gB7hxRb"
      },
      "execution_count": null,
      "outputs": []
    },
    {
      "cell_type": "markdown",
      "source": [
        "### **Pregunta 4:**\n",
        "1. Agrupa df_combinado por AgeGroup.\n",
        "2. Calcula el promedio de Glucose y el promedio de BMI para cada grupo de edad.\n",
        "3. Ordena el resultado por el promedio de Glucose de mayor a menor.\n",
        "4. Muestra el DataFrame resultante."
      ],
      "metadata": {
        "id": "3anETsTxhxaq"
      }
    },
    {
      "cell_type": "code",
      "source": [],
      "metadata": {
        "id": "09ligmW4irr7"
      },
      "execution_count": null,
      "outputs": []
    },
    {
      "cell_type": "code",
      "source": [],
      "metadata": {
        "id": "df1m_OXlhyez"
      },
      "execution_count": null,
      "outputs": []
    },
    {
      "cell_type": "markdown",
      "source": [
        "### **Pregunta 5:**\n",
        "1. A partir de df_combinado, filtra las filas donde AgeGroup = \"Adulto\" y Outcome = 1 (casos positivos de diabetes en adultos).\n",
        "2. De este subconjunto, selecciona los 5 registros con el mayor valor de BMI.\n",
        "3. Muestra únicamente las columnas Age, Glucose, BMI, DiabetesPedigreeFunction, ordenadas por BMI de mayor a menor."
      ],
      "metadata": {
        "id": "dIHXJLeghym7"
      }
    },
    {
      "cell_type": "code",
      "source": [],
      "metadata": {
        "id": "zOg6n96IirUT"
      },
      "execution_count": null,
      "outputs": []
    },
    {
      "cell_type": "code",
      "source": [],
      "metadata": {
        "id": "kaK0M0qLh0_L"
      },
      "execution_count": null,
      "outputs": []
    },
    {
      "cell_type": "markdown",
      "source": [
        "### **Pregunta 6:**\n",
        "1. Usando df_combinado, crea una tabla pivote que tenga:\n",
        "* Índice: AgeGroup\n",
        "* Columnas: Outcome\n",
        "* Valores: promedio de Glucose y BMI\n",
        "2. La pivot table debe mostrar el promedio de Glucose y BMI por combinación de AgeGroup y Outcome.\n",
        "3. De la tabla resultante, filtra y muestra únicamente las filas (AgeGroups) donde el promedio de BMI para cualquiera de los valores de Outcome sea mayor a 30."
      ],
      "metadata": {
        "id": "N54Lkx0dh1FS"
      }
    },
    {
      "cell_type": "code",
      "source": [],
      "metadata": {
        "id": "EzRPqmA2h2Rz"
      },
      "execution_count": null,
      "outputs": []
    },
    {
      "cell_type": "code",
      "source": [],
      "metadata": {
        "id": "if0GkYl0irCr"
      },
      "execution_count": null,
      "outputs": []
    },
    {
      "cell_type": "markdown",
      "source": [],
      "metadata": {
        "id": "MdgCqhXQh2Zj"
      }
    }
  ]
}